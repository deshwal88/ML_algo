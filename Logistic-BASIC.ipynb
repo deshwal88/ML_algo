{
 "cells": [
  {
   "cell_type": "code",
   "execution_count": 18,
   "metadata": {},
   "outputs": [
    {
     "name": "stdout",
     "output_type": "stream",
     "text": [
      "              precision    recall  f1-score   support\n",
      "\n",
      "           0       0.72      0.95      0.82        66\n",
      "           1       0.75      0.26      0.39        34\n",
      "\n",
      "    accuracy                           0.72       100\n",
      "   macro avg       0.73      0.61      0.60       100\n",
      "weighted avg       0.73      0.72      0.67       100\n",
      "\n",
      "[[63  3]\n",
      " [25  9]]\n",
      "0.72\n"
     ]
    }
   ],
   "source": [
    "import numpy as np\n",
    "import pandas as pd\n",
    "import matplotlib.pyplot as plt\n",
    "import seaborn as sns\n",
    "%matplotlib inline\n",
    "\n",
    "data=pd.read_csv('/home/kanishk/Downloads/binary.csv')\n",
    "\n",
    "x=data.drop('admit',axis=1)\n",
    "y=data['admit']\n",
    "\n",
    "from sklearn.model_selection import train_test_split\n",
    "X_train,X_test,Y_train,Y_test=train_test_split(x,y,test_size=0.25,random_state=1)\n",
    "\n",
    "from sklearn.preprocessing import StandardScaler\n",
    "sc=StandardScaler()\n",
    "X_train=sc.fit_transform(X_train)\n",
    "X_test=sc.transform(X_test)\n",
    "\n",
    "from sklearn.linear_model import LogisticRegression\n",
    "model=LogisticRegression()\n",
    "model=model.fit(X_train,Y_train)\n",
    "predictions=model.predict(X_test)\n",
    "\n",
    "from sklearn.metrics import classification_report, confusion_matrix, accuracy_score\n",
    "t=['classification_report','confusion_matrix','accuracy_score']\n",
    "for i in range(3):\n",
    "    print(eval('{}(Y_test,predictions)'.format(t[i])))"
   ]
  },
  {
   "cell_type": "code",
   "execution_count": null,
   "metadata": {},
   "outputs": [],
   "source": []
  }
 ],
 "metadata": {
  "kernelspec": {
   "display_name": "Python 3",
   "language": "python",
   "name": "python3"
  },
  "language_info": {
   "codemirror_mode": {
    "name": "ipython",
    "version": 3
   },
   "file_extension": ".py",
   "mimetype": "text/x-python",
   "name": "python",
   "nbconvert_exporter": "python",
   "pygments_lexer": "ipython3",
   "version": "3.7.6"
  }
 },
 "nbformat": 4,
 "nbformat_minor": 4
}
