{
 "cells": [
  {
   "cell_type": "code",
   "execution_count": 2,
   "metadata": {},
   "outputs": [],
   "source": [
    "import numpy as np\n",
    "import pandas as pd\n",
    "import sklearn.naive_bayes as nb\n",
    "import zipfile"
   ]
  },
  {
   "cell_type": "code",
   "execution_count": 3,
   "metadata": {},
   "outputs": [],
   "source": [
    "with zipfile.ZipFile('./names.zip') as file:\n",
    "    file.extractall()"
   ]
  },
  {
   "cell_type": "code",
   "execution_count": 239,
   "metadata": {},
   "outputs": [],
   "source": [
    "data=np.genfromtxt('./yob2019.txt',dtype='str',delimiter=',')\n",
    "names=data[:,0]\n",
    "y=pd.get_dummies(data[:,1],drop_first=True).values"
   ]
  },
  {
   "cell_type": "markdown",
   "metadata": {},
   "source": [
    "Decomposition every name into alphabets using count vectorizer and performing multinomial naive bayes."
   ]
  },
  {
   "cell_type": "code",
   "execution_count": 240,
   "metadata": {},
   "outputs": [],
   "source": [
    "from sklearn.feature_extraction.text import CountVectorizer\n",
    "vect=CountVectorizer(analyzer='char',max_features=26)\n",
    "pro=vect.fit_transform(names).toarray()"
   ]
  },
  {
   "cell_type": "code",
   "execution_count": 241,
   "metadata": {},
   "outputs": [
    {
     "name": "stdout",
     "output_type": "stream",
     "text": [
      "Score using method 1: 65.94\n"
     ]
    }
   ],
   "source": [
    "clf=nb.MultinomialNB()\n",
    "clf.fit(pro,np.ravel(y))\n",
    "y_hat=clf.predict(pro)\n",
    "score=1-np.sum(np.not_equal(y_hat,np.ravel(y)))/len(names)\n",
    "print('Score using method 1: %.2f'%(score*100))"
   ]
  },
  {
   "cell_type": "code",
   "execution_count": 237,
   "metadata": {},
   "outputs": [],
   "source": [
    "def classify(name):\n",
    "    word=vect.transform([name]).toarray()\n",
    "    y=clf.predict(word)\n",
    "    if y==0:\n",
    "        print('Female detected!')\n",
    "    else:\n",
    "        print('Male detected!')"
   ]
  },
  {
   "cell_type": "code",
   "execution_count": 238,
   "metadata": {},
   "outputs": [
    {
     "name": "stdout",
     "output_type": "stream",
     "text": [
      "Enter any name.\n",
      "obama\n",
      "Male detected!\n",
      "Enter any name.\n",
      "susan\n",
      "Male detected!\n",
      "Enter any name.\n",
      "michelle\n",
      "Female detected!\n",
      "Enter any name.\n",
      "mikel\n",
      "Female detected!\n",
      "Enter any name.\n",
      "trump\n",
      "Male detected!\n",
      "Enter any name.\n",
      "kanishk\n",
      "Female detected!\n",
      "Enter any name.\n",
      "dany\n",
      "Female detected!\n",
      "Enter any name.\n",
      "\n",
      "Male detected!\n",
      "Enter any name.\n",
      "daniel\n",
      "Female detected!\n",
      "Enter any name.\n",
      "packy\n",
      "Male detected!\n",
      "Enter any name.\n",
      "rachael\n",
      "Female detected!\n",
      "Enter any name.\n",
      "mike\n",
      "Male detected!\n",
      "Enter any name.\n",
      "pompeo\n",
      "Male detected!\n",
      "Enter any name.\n",
      "done\n"
     ]
    }
   ],
   "source": [
    "while(True):\n",
    "    name=input('Enter any name.\\n')\n",
    "    name=name.lower()\n",
    "    if name=='done':\n",
    "        break\n",
    "    classify(name)"
   ]
  },
  {
   "cell_type": "code",
   "execution_count": null,
   "metadata": {},
   "outputs": [],
   "source": []
  }
 ],
 "metadata": {
  "kernelspec": {
   "display_name": "Python 3",
   "language": "python",
   "name": "python3"
  },
  "language_info": {
   "codemirror_mode": {
    "name": "ipython",
    "version": 3
   },
   "file_extension": ".py",
   "mimetype": "text/x-python",
   "name": "python",
   "nbconvert_exporter": "python",
   "pygments_lexer": "ipython3",
   "version": "3.8.0"
  }
 },
 "nbformat": 4,
 "nbformat_minor": 4
}
