{
 "cells": [
  {
   "cell_type": "markdown",
   "metadata": {},
   "source": [
    "## Loading dataset and liabraries"
   ]
  },
  {
   "cell_type": "markdown",
   "metadata": {},
   "source": [
    "The dataset contains sentences as reviews by users of different platforms(eg. imdb, yeppy, etc). infront of every \n",
    "sentence label is mentioned as 0 and 1, negative or positive."
   ]
  },
  {
   "cell_type": "code",
   "execution_count": 1,
   "metadata": {},
   "outputs": [],
   "source": [
    "import numpy as np\n",
    "import string\n",
    "import matplotlib.pyplot as plt\n",
    "from sklearn.linear_model import LogisticRegression\n",
    "%matplotlib inline"
   ]
  },
  {
   "cell_type": "code",
   "execution_count": 2,
   "metadata": {},
   "outputs": [],
   "source": [
    "with open('sentiment_labelled_sentences/full_set.txt') as file:\n",
    "    data=file.readlines()\n",
    "    \n",
    "data=[x.strip() for x in data]\n",
    "sentences=[x.split('\\t')[0] for x in data]\n",
    "labels=[x.split('\\t')[1] for x in data]\n",
    "\n",
    "y=np.asanyarray(labels,'int')\n",
    "y=2*y-1"
   ]
  },
  {
   "cell_type": "markdown",
   "metadata": {},
   "source": [
    "## Processing data"
   ]
  },
  {
   "cell_type": "code",
   "execution_count": 3,
   "metadata": {},
   "outputs": [],
   "source": [
    "digits=[x for x in string.digits]\n",
    "punc=string.punctuation\n",
    "\n",
    "def vanish(x,arr):\n",
    "    for item in arr:\n",
    "        if item in x:\n",
    "            arr=arr.replace(item,'')\n",
    "    return arr\n",
    "\n",
    "digit_free=[vanish(digits,sentence) for sentence in sentences]\n",
    "punc_free=[vanish(punc,sentence) for sentence in digit_free]\n",
    "punc_free=[x.lower() for x in punc_free]"
   ]
  },
  {
   "cell_type": "markdown",
   "metadata": {},
   "source": [
    "#### Stop words"
   ]
  },
  {
   "cell_type": "code",
   "execution_count": 4,
   "metadata": {},
   "outputs": [],
   "source": [
    "stop_words=set(['a','an','the','i','they','we','them','us','you','from','at','for','there','here','to','it'\n",
    "           ,'he','she','of','am','is','so','me','in','us'])\n",
    "stripped=[x.split() for x in punc_free]\n",
    "processed=[' '.join(list(filter(lambda a: a not in stop_words, x))) for x in stripped]"
   ]
  },
  {
   "cell_type": "markdown",
   "metadata": {},
   "source": [
    "#### Bag of Words"
   ]
  },
  {
   "cell_type": "code",
   "execution_count": 5,
   "metadata": {},
   "outputs": [],
   "source": [
    "from sklearn.feature_extraction.text import CountVectorizer\n",
    "CV=CountVectorizer(analyzer='word',max_features=4500)\n",
    "data=CV.fit_transform(processed)"
   ]
  },
  {
   "cell_type": "markdown",
   "metadata": {},
   "source": [
    "#### Adding Bias term "
   ]
  },
  {
   "cell_type": "markdown",
   "metadata": {},
   "source": [
    "'1' is added to the end of feature set to set the default value of the prediction. In case of linear regression \n",
    "it is used to track the base case(i.e. output is 0), gives the default value to set the model more effectively.\n",
    "In case of logistic regression it is the outcome when all the predictors are zero,i.e. the INTERCEPT. The coefficient of this bias term is equal to the intercept of the fitted model."
   ]
  },
  {
   "cell_type": "code",
   "execution_count": 6,
   "metadata": {},
   "outputs": [],
   "source": [
    "data=data.toarray()\n",
    "data=np.append(data,np.ones(len(data),int).reshape(-1,1),axis=1)"
   ]
  },
  {
   "cell_type": "markdown",
   "metadata": {},
   "source": [
    "## Splitting data train and test set"
   ]
  },
  {
   "cell_type": "code",
   "execution_count": 7,
   "metadata": {},
   "outputs": [],
   "source": [
    "n=500\n",
    "\n",
    "test_indices=np.append(np.random.choice(np.where(y==1)[0],int(n/2),replace=0),\\\n",
    "          (np.random.choice(np.where(y==-1)[0],int(n/2),replace=0)),axis=0)\n",
    "train_indices=list(set(range(len(y)))-set(test_indices))\n",
    "\n",
    "x_test=data[test_indices,]\n",
    "y_test=y[test_indices,]\n",
    "x_train=data[train_indices,]\n",
    "y_train=y[train_indices,]"
   ]
  },
  {
   "cell_type": "markdown",
   "metadata": {},
   "source": [
    "## Fitting logistic regression "
   ]
  },
  {
   "cell_type": "markdown",
   "metadata": {},
   "source": [
    "Here we use stochaistic gradient descent technique instead of logistic regression which uses gradient descent for\n",
    "optimization, due to large set of features(i.e. 4500) which may take computationally longer time in case of actual gradient descent."
   ]
  },
  {
   "cell_type": "code",
   "execution_count": 10,
   "metadata": {},
   "outputs": [
    {
     "name": "stdout",
     "output_type": "stream",
     "text": [
      "Training error:  0.0024\n",
      "Test error:  0.232\n"
     ]
    }
   ],
   "source": [
    "from sklearn.linear_model import SGDClassifier\n",
    "clf=SGDClassifier(loss='log',penalty=None)\n",
    "clf.fit(x_train,y_train)\n",
    "\n",
    "a=clf.coef_\n",
    "b=clf.intercept_\n",
    "\n",
    "y_hat_trn=clf.predict(x_train)\n",
    "y_hat_tst=clf.predict(x_test)\n",
    "\n",
    "error_trn=np.sum(np.not_equal(y_hat_trn,y_train))/len(y_train)\n",
    "error_tst=np.sum(np.not_equal(y_hat_tst,y_test))/len(y_test)\n",
    "\n",
    "print('Training error: ',error_trn)\n",
    "print('Test error: ',error_tst)"
   ]
  },
  {
   "cell_type": "markdown",
   "metadata": {},
   "source": [
    "#### Fraction of data vs Margin"
   ]
  },
  {
   "cell_type": "code",
   "execution_count": 11,
   "metadata": {},
   "outputs": [],
   "source": [
    "def margin(gamma,data,clf):\n",
    "    probab=clf.predict_proba(data)[:,1]\n",
    "    margin_len=sum(((probab>(0.5+gamma)) | (probab<(0.5-gamma))))\n",
    "    return margin_len/500"
   ]
  },
  {
   "cell_type": "code",
   "execution_count": 12,
   "metadata": {},
   "outputs": [
    {
     "data": {
      "image/png": "[encoded data removed]",
      "text/plain": [
       "<Figure size 504x360 with 1 Axes>"
      ]
     },
     "metadata": {},
     "output_type": "display_data"
    }
   ],
   "source": [
    "import seaborn as sns\n",
    "sns.set_style('darkgrid')\n",
    "plt.rcParams['figure.figsize']=(7,5)\n",
    "gamma=np.arange(0,0.5,0.01)\n",
    "marg=[margin(i,x_test,clf) for i in gamma]\n",
    "plt.plot(gamma,marg,'red',linewidth=2.5)\n",
    "plt.title('Distribution among margin',fontsize=14,weight='bold')\n",
    "plt.xlabel('Margin',fontsize=12)\n",
    "plt.ylabel('Fraction of Points',fontsize=12)\n",
    "plt.show()"
   ]
  },
  {
   "cell_type": "markdown",
   "metadata": {},
   "source": [
    "#### Error vs Margin"
   ]
  },
  {
   "cell_type": "code",
   "execution_count": 13,
   "metadata": {},
   "outputs": [],
   "source": [
    "def margin_error(gamma,probab):\n",
    "    marg_ind=np.where((probab<(0.5-gamma))|(probab>(0.5+gamma)))[0]\n",
    "    errors=np.not_equal(y_test[marg_ind],y_hat_tst[marg_ind])\n",
    "    return sum(errors)/len(y_test)"
   ]
  },
  {
   "cell_type": "code",
   "execution_count": 14,
   "metadata": {},
   "outputs": [
    {
     "data": {
      "image/png": "[encoded data removed]",
      "text/plain": [
       "<Figure size 504x360 with 1 Axes>"
      ]
     },
     "metadata": {},
     "output_type": "display_data"
    }
   ],
   "source": [
    "sns.set_style('whitegrid')\n",
    "gamma=np.arange(0,0.5,0.01)\n",
    "probab=clf.predict_proba(x_test)\n",
    "errors=[margin_error(i,probab) for i in gamma]\n",
    "plt.plot(gamma,errors,'green',linewidth=2)\n",
    "plt.title('Distribution among margin',fontsize=14,weight='bold')\n",
    "plt.xlabel('Margin',fontsize=12)\n",
    "plt.ylabel('Error',fontsize=12)\n",
    "plt.show()"
   ]
  },
  {
   "cell_type": "markdown",
   "metadata": {},
   "source": [
    "### Words with larger influence"
   ]
  },
  {
   "cell_type": "markdown",
   "metadata": {},
   "source": [
    "These are the features or words with larger coefficients"
   ]
  },
  {
   "cell_type": "code",
   "execution_count": 15,
   "metadata": {},
   "outputs": [
    {
     "name": "stdout",
     "output_type": "stream",
     "text": [
      "Words with most Negative influence: \n",
      " ['worst' 'then' 'stupid' 'poor' 'disappointment' 'difficult' 'months'\n",
      " 'fails' 'took' 'failed' 'chilly' 'bad' 'crap' 'slow' 'arent' 'horrible'\n",
      " 'awful' 'buying' 'rude' 'chargers' 'lame' 'empty' 'avoid' 'wouldnt'\n",
      " 'tasted' 'waste' 'tables' 'return' 'restaurants' 'too' 'rated' 'weak'\n",
      " 'yum' 'lousy' 'nothing' 'unfortunately' 'part' 'zero' 'accidentally'\n",
      " 'last' 'directing' 'dirt' 'above' 'valley' 'pay' 'picture' 'average'\n",
      " 'plug' 'hours' 'overpriced']\n",
      "\n",
      "Words with most positive influence: \n",
      " ['rocks' 'masculine' 'screamy' 'comfortable' 'seller' 'shot' 'youre'\n",
      " 'holds' 'say' 'reviews' 'day' 'actresses' 'liked' 'happier' 'dialing'\n",
      " 'light' 'glad' 'interesting' 'job' 'carry' 'clear' 'tasty' 'song' 'wow'\n",
      " 'lovely' 'paper' 'prices' 'sex' 'favorite' 'incredible' 'beautiful'\n",
      " 'fantastic' 'greek' 'perfectly' 'played' 'nice' 'fun' 'wonderful'\n",
      " 'perfect' 'great' 'amazing' 'awesome' 'works' 'plus' 'excellent' 'love'\n",
      " 'delicious' 'loved']\n"
     ]
    }
   ],
   "source": [
    "import operator\n",
    "vocab=np.array([z[0] for z in sorted(CV.vocabulary_.items(),key=operator.itemgetter(1))])\n",
    "sort_ind=np.argsort(a)[0]\n",
    "\n",
    "print('Words with most Negative influence: \\n',vocab[sort_ind[0:50]])\n",
    "print('\\nWords with most positive influence: \\n',vocab[sort_ind[-49:-1]])"
   ]
  },
  {
   "cell_type": "markdown",
   "metadata": {},
   "source": [
    "### Abstain Classifier"
   ]
  },
  {
   "cell_type": "markdown",
   "metadata": {},
   "source": [
    "Now, how about building an 'Abstain Classifier' in which the classifier is allowed to abstain in certain cases\n",
    "but very infrequently. For this we must set a margin for the classifier so that it doesnt abstain frequently and\n",
    "the error rate is also reduces to minimum."
   ]
  },
  {
   "cell_type": "code",
   "execution_count": 21,
   "metadata": {},
   "outputs": [],
   "source": [
    "class abstain:\n",
    "    x=0\n",
    "    y=0\n",
    "    test=0\n",
    "    \n",
    "    def __init__(self,x,y,test):\n",
    "        self.x_train=x\n",
    "        self.y_train=y\n",
    "        self.test=test\n",
    "        \n",
    "        model=SGDClassifier(loss='log',penalty='none')\n",
    "        model.fit(self.x_train,self.y_train)\n",
    "        self.probab=model.predict_proba(self.test)\n",
    "        self.predict=model.predict(self.test)\n",
    "    \n",
    "    def prediction(self):\n",
    "        y_hat=np.asanyarray(self.predict,float)\n",
    "        \n",
    "        for i in range(len(self.test)):\n",
    "            margin=abs(self.probab[i,0]-0.5)\n",
    "            if margin<0.4:\n",
    "                y_hat[i]=np.nan          \n",
    "        return y_hat"
   ]
  },
  {
   "cell_type": "markdown",
   "metadata": {},
   "source": [
    "Error calculation and comparison"
   ]
  },
  {
   "cell_type": "code",
   "execution_count": 25,
   "metadata": {},
   "outputs": [
    {
     "name": "stdout",
     "output_type": "stream",
     "text": [
      "Fraction of data Abstained:  0.076\n",
      "Error calculation with abstain classification:  0.18181818181818182\n",
      "Error calculation without abstain classification:  0.218\n"
     ]
    }
   ],
   "source": [
    "model=abstain(x=x_train,y=y_train,test=x_test)\n",
    "y_hat=model.prediction()\n",
    "\n",
    "nan=sum(np.isnan(y_hat))\n",
    "error=sum(np.not_equal(model.predict,y_test))/len(y_test)\n",
    "error_abs=(sum(np.not_equal(y_hat,y_test))-nan)/(len(y_test)-nan)\n",
    "\n",
    "print('Fraction of data Abstained: ',nan/len(y_test))\n",
    "print('Error calculation with abstain classification: ',error_abs)\n",
    "print('Error calculation without abstain classification: ',error)"
   ]
  },
  {
   "cell_type": "code",
   "execution_count": null,
   "metadata": {},
   "outputs": [],
   "source": []
  }
 ],
 "metadata": {
  "kernelspec": {
   "display_name": "Python 3",
   "language": "python",
   "name": "python3"
  },
  "language_info": {
   "codemirror_mode": {
    "name": "ipython",
    "version": 3
   },
   "file_extension": ".py",
   "mimetype": "text/x-python",
   "name": "python",
   "nbconvert_exporter": "python",
   "pygments_lexer": "ipython3",
   "version": "3.7.6"
  }
 },
 "nbformat": 4,
 "nbformat_minor": 4
}
