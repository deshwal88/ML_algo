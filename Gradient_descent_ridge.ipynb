{
 "cells": [
  {
   "cell_type": "markdown",
   "metadata": {},
   "source": [
    "### Understanding optimization in Ridge"
   ]
  },
  {
   "cell_type": "markdown",
   "metadata": {},
   "source": [
    "Here we have Ridge regression where a regularization term is added to the loss function. So, in order to optimize the loss function we use gradient descent with varying parameters according to the demand of the data and our understanding."
   ]
  },
  {
   "cell_type": "markdown",
   "metadata": {},
   "source": [
    "So, first we create a dataset following the normal distribution. We must also add an error term in order to make the dataset pragmatic. "
   ]
  },
  {
   "cell_type": "code",
   "execution_count": 7,
   "metadata": {},
   "outputs": [],
   "source": [
    "import numpy as np\n",
    "import matplotlib.pyplot as plt\n",
    "import sklearn.linear_model\n",
    "from sklearn.metrics import mean_squared_error,r2_score\n",
    "from ipywidgets import interact, interact_manual\n",
    "%matplotlib inline"
   ]
  },
  {
   "cell_type": "code",
   "execution_count": 8,
   "metadata": {},
   "outputs": [],
   "source": [
    "def gen_data(n):\n",
    "    d=100\n",
    "    w=np.zeros(d)\n",
    "    for i in range(0,10):\n",
    "        w[i]=1.0\n",
    "    trainx=np.random.normal(size=(n,d))\n",
    "    trainy=np.dot(trainx,w)+np.random.normal(size=n)\n",
    "    return trainx,trainy"
   ]
  },
  {
   "cell_type": "code",
   "execution_count": 9,
   "metadata": {},
   "outputs": [],
   "source": [
    "x,y=gen_data(500)"
   ]
  },
  {
   "cell_type": "markdown",
   "metadata": {},
   "source": [
    "Now that data is generated we must define a function ridge_GD which takes three arguments training data(x,y) and regularization parameter(C). It should give out feature matrix(w) with offset(b) and losses. As the stepsize will be small enough so after a certain value the loss function decreases very slowly that it hardly affects the output. Hence after a vety small value (say, 2*10e-20) we stop and conclude that our loss funcion has converged.  "
   ]
  },
  {
   "cell_type": "code",
   "execution_count": 22,
   "metadata": {},
   "outputs": [],
   "source": [
    "def ridge_GD(x,y,C=1,max_iter=100,step=0.001):\n",
    "    \n",
    "    f=x.shape[1]\n",
    "    b=0\n",
    "    w0=np.zeros(f+1)\n",
    "    wt=np.empty((max_iter,f+1))\n",
    "    losses=np.empty(0)\n",
    "    X=np.append(np.ones((len(x),1)),x,axis=1)\n",
    "    \n",
    "    for i in range(1,max_iter):\n",
    "        resid=y-(np.dot(X,w0))\n",
    "        db=-2*sum(resid)\n",
    "        dL=np.dot(x.T,-2*resid)+2*C*np.linalg.norm(w0[1:])\n",
    "        w0-=step*np.append(db,dL)\n",
    "        loss=(sum(resid)**2)/len(x)\n",
    "        \n",
    "        if loss<(2*(10**-20)):\n",
    "            break\n",
    "            \n",
    "        wt[i,]=w0\n",
    "        losses=np.append(losses,abs(loss))\n",
    "        \n",
    "    return wt[:,1:],wt[:,0],losses"
   ]
  },
  {
   "cell_type": "markdown",
   "metadata": {},
   "source": [
    "### Finding best value of stepsize"
   ]
  },
  {
   "cell_type": "code",
   "execution_count": 23,
   "metadata": {},
   "outputs": [
    {
     "data": {
      "application/vnd.jupyter.widget-view+json": {
       "model_id": "b16394568b6a4dd6853492b2a3950ecc",
       "version_major": 2,
       "version_minor": 0
      },
      "text/plain": [
       "interactive(children=(Dropdown(description='s', options=(1, 0.1, 0.001, 0.0001, 0.0009, 1e-05, 1e-06), value=1…"
      ]
     },
     "metadata": {},
     "output_type": "display_data"
    }
   ],
   "source": [
    "@interact_manual(s=[1,0.1,0.001,0.0001,0.0009,0.00001,0.000001])\n",
    "def f(s):\n",
    "    w,b,loss=ridge_GD(x,y,max_iter=1000,step=s)\n",
    "    loss=loss[~np.isnan(loss)]\n",
    "    index=np.argmin(loss)\n",
    "    y_hat=x.dot(w[index])+b[index]\n",
    "    print('Mean-squared error: ',mean_squared_error(y,y_hat))\n",
    "    try:    \n",
    "        r2=r2_score(y_hat,y)\n",
    "        print('R-squared error at best fit of step size is: ',r2)\n",
    "    except:\n",
    "        print('Cannot calculate R-squarred error, one or more coefficients are infinity')"
   ]
  },
  {
   "cell_type": "markdown",
   "metadata": {},
   "source": [
    "As seen, the perfect fit comes with step size=0.0009 in this situation.\n",
    "We cannot use a constant schedule of 1/t here as the cofficients of features are either 0 or 1 which will be skipped in the first iteration."
   ]
  },
  {
   "cell_type": "markdown",
   "metadata": {},
   "source": [
    "\n",
    "### Visualizing different values of loss at each iteration "
   ]
  },
  {
   "cell_type": "code",
   "execution_count": 28,
   "metadata": {},
   "outputs": [
    {
     "data": {
      "image/png": "[encoded data removed]",
      "text/plain": [
       "<Figure size 504x360 with 1 Axes>"
      ]
     },
     "metadata": {},
     "output_type": "display_data"
    }
   ],
   "source": [
    "import seaborn as sns\n",
    "w,b,loss=ridge_GD(x,y,max_iter=1000,step=0.0001)\n",
    "ind=np.argmin(loss)\n",
    "sns.set_style('dark')\n",
    "plt.figure(figsize=(7,5))\n",
    "plt.plot(loss,lw=2,color='red')\n",
    "plt.xlim(-5,100)\n",
    "plt.xlabel('Iteration',fontsize=12)\n",
    "plt.ylabel('Loss',fontsize=12)\n",
    "plt.show()"
   ]
  },
  {
   "cell_type": "markdown",
   "metadata": {},
   "source": [
    "### Comparisson with scikit-learn solver"
   ]
  },
  {
   "cell_type": "code",
   "execution_count": 29,
   "metadata": {},
   "outputs": [
    {
     "name": "stdout",
     "output_type": "stream",
     "text": [
      "Mean-squared error of solver:  0.7301567562184009\n",
      "R squared error of solver:  0.9306787575447554\n",
      "Distance between coeffcients:  0.08463943656421048\n"
     ]
    }
   ],
   "source": [
    "from sklearn.linear_model import Ridge\n",
    "model=Ridge()\n",
    "model.fit(x,y)\n",
    "y_hat=model.predict(x)\n",
    "print('Mean-squared error of solver: ',mean_squared_error(y,y_hat))\n",
    "print(\"R squared error of solver: \",r2_score(y,y_hat))\n",
    "print(\"Distance between coeffcients: \",np.linalg.norm(model.coef_-w[ind]))"
   ]
  },
  {
   "cell_type": "code",
   "execution_count": null,
   "metadata": {},
   "outputs": [],
   "source": []
  }
 ],
 "metadata": {
  "kernelspec": {
   "display_name": "Python 3",
   "language": "python",
   "name": "python3"
  },
  "language_info": {
   "codemirror_mode": {
    "name": "ipython",
    "version": 3
   },
   "file_extension": ".py",
   "mimetype": "text/x-python",
   "name": "python",
   "nbconvert_exporter": "python",
   "pygments_lexer": "ipython3",
   "version": "3.8.0"
  }
 },
 "nbformat": 4,
 "nbformat_minor": 4
}
