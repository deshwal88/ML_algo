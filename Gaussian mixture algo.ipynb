{
 "cells": [
  {
   "cell_type": "markdown",
   "metadata": {},
   "source": [
    "## Loading data and libraries"
   ]
  },
  {
   "cell_type": "code",
   "execution_count": 9,
   "metadata": {},
   "outputs": [],
   "source": [
    "import numpy as np\n",
    "import matplotlib.pyplot as plt\n",
    "%matplotlib inline"
   ]
  },
  {
   "cell_type": "code",
   "execution_count": 7,
   "metadata": {},
   "outputs": [
    {
     "name": "stdout",
     "output_type": "stream",
     "text": [
      "_ipynb_checkpoints\n",
      "wine.data.txt\n",
      "wine.names.txt\n",
      "winery-classification-gaussian.ipynb\n"
     ]
    }
   ],
   "source": [
    "!ls './Datasets ML/winery-multivariate'"
   ]
  },
  {
   "cell_type": "code",
   "execution_count": 11,
   "metadata": {},
   "outputs": [],
   "source": [
    "data_1=np.loadtxt('./Animals_with_Attributes/predicate-matrix-binary.txt')\n",
    "data_2=np.loadtxt('./Animals_with_Attributes/predicate-matrix-continuous.txt')\n",
    "data=np.loadtxt('./Datasets ML/winery-multivariate/wine.data.txt',delimiter=',')"
   ]
  },
  {
   "cell_type": "markdown",
   "metadata": {},
   "source": [
    "## Classification using Gaussian concept and EM algorithm"
   ]
  },
  {
   "cell_type": "markdown",
   "metadata": {},
   "source": [
    "The classifier is quite usefull when the clusters are not spherical, i.e. they are natural occuring with variable shapes and sizes. Using gaussian distribution which takes upon the concept of probablity function the model with be quite helpfull and better than k means. This method is fast but the only con is when there are many features and insufficient data points the covariance matrix may have inf value. Thus will not work."
   ]
  },
  {
   "cell_type": "code",
   "execution_count": 59,
   "metadata": {},
   "outputs": [],
   "source": [
    "from scipy.stats import multivariate_normal\n",
    "\n",
    "def classify(n_clus,x,mean,cov):\n",
    "    prob=np.zeros((n_clus,x.shape[0]))\n",
    "    for i in range(n_clus):\n",
    "        multi=multivariate_normal(cov=cov[i,:,:],mean=mean[i,:],allow_singular=True)\n",
    "        prob[i,:]=multi.pdf(x)\n",
    "    return prob\n",
    "    \n",
    "def gaussian_train(x,n_clus=3,max_iter=100):\n",
    "    iter=0\n",
    "    done=False\n",
    "    n,d=x.shape\n",
    "    EM=[]\n",
    "    \n",
    "    mew=np.zeros(shape=(n_clus,d))\n",
    "    prob=np.zeros((n_clus,n))\n",
    "    pi=np.ones(n_clus)\n",
    "    covar=np.zeros((n_clus,d,d))\n",
    "    \n",
    "    cov=np.cov(x,rowvar=False,bias=True)\n",
    "    for i in range(n_clus):\n",
    "        mew[i]=x[i]\n",
    "        covar[i,:,]=cov\n",
    "        \n",
    "    while not(done):\n",
    "        prob=classify(n_clus,x,mew,covar)*pi.reshape(-1,1)\n",
    "        w=prob/np.sum(prob,axis=0)\n",
    "        \n",
    "        pi=np.sum(w,axis=1)/n\n",
    "        mew=w.dot(x)/(n*pi.reshape(-1,1))\n",
    "        covar=np.array([((x-mew[i]).T.dot((x-mew[i])*w[i].reshape(-1,1)))/(n*pi[i]) for i in range(n_clus)])\n",
    "        \n",
    "        EM.append(sum(np.log(np.sum(prob,axis=0))))\n",
    "        \n",
    "        if (iter>1) & (EM[iter]<EM[iter-1]):\n",
    "            done=True\n",
    "            \n",
    "        if iter>max_iter:\n",
    "            done=True\n",
    "        \n",
    "        iter+=1\n",
    "    print('Converged at: ',iter)\n",
    "    return mew,covar,pi\n",
    "\n",
    "def train_and_test(data,n,max_iter):\n",
    "    mean,cov,pi=gaussian_train(data,n_clus=n,max_iter=max_iter)\n",
    "    prob=classify(n,data,mean,cov)*pi.reshape(-1,1)\n",
    "    label=np.argmax(prob,axis=0)\n",
    "    return label"
   ]
  },
  {
   "cell_type": "code",
   "execution_count": 60,
   "metadata": {},
   "outputs": [
    {
     "name": "stdout",
     "output_type": "stream",
     "text": [
      "Converged at:  91\n"
     ]
    },
    {
     "data": {
      "text/plain": [
       "(array([0, 1, 2], dtype=int64), array([23, 97, 58], dtype=int64))"
      ]
     },
     "execution_count": 60,
     "metadata": {},
     "output_type": "execute_result"
    }
   ],
   "source": [
    "label=train_and_test(x,3,max_iter=100)\n",
    "np.unique(label,return_counts=1)"
   ]
  },
  {
   "cell_type": "code",
   "execution_count": 61,
   "metadata": {},
   "outputs": [
    {
     "data": {
      "text/plain": [
       "(array([0., 1., 2.]), array([59, 71, 48], dtype=int64))"
      ]
     },
     "execution_count": 61,
     "metadata": {},
     "output_type": "execute_result"
    }
   ],
   "source": [
    "np.unique(y,return_counts=1)"
   ]
  },
  {
   "cell_type": "code",
   "execution_count": null,
   "metadata": {},
   "outputs": [],
   "source": []
  }
 ],
 "metadata": {
  "kernelspec": {
   "display_name": "Python 3",
   "language": "python",
   "name": "python3"
  },
  "language_info": {
   "codemirror_mode": {
    "name": "ipython",
    "version": 3
   },
   "file_extension": ".py",
   "mimetype": "text/x-python",
   "name": "python",
   "nbconvert_exporter": "python",
   "pygments_lexer": "ipython3",
   "version": "3.7.6"
  }
 },
 "nbformat": 4,
 "nbformat_minor": 4
}
