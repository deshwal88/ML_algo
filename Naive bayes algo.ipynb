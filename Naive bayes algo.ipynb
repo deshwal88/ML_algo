{
 "cells": [
  {
   "cell_type": "code",
   "execution_count": null,
   "metadata": {},
   "outputs": [],
   "source": [
    "import numpy as np\n",
    "import csv\n",
    "import random\n",
    "\n",
    "with open('/home/kanishk/Downloads/diabetes.csv') as csvfile:\n",
    "    data=list(csv.reader(csvfile))\n",
    "    for i in range(1,len(data)):\n",
    "        data[i]=[float(x) for x in data[i]]\n",
    "\n",
    "def splitdataset(data,split):\n",
    "    test=data[1:][:]\n",
    "    train=[]\n",
    "    split=int(split*len(test))\n",
    "    for i in range(split):\n",
    "        n=random.randrange(0,len(test))\n",
    "        train.append(test.pop(n))\n",
    "    return (train,test)\n",
    "\n",
    "def classsep(dataset):\n",
    "    sep={}\n",
    "    for i in range(len(dataset)):\n",
    "        clas=dataset[i]\n",
    "        if clas[-1] not in sep:\n",
    "            sep[clas[-1]]=[]\n",
    "        sep[clas[-1]].append(clas)\n",
    "    return sep"
   ]
  },
  {
   "cell_type": "code",
   "execution_count": null,
   "metadata": {},
   "outputs": [],
   "source": [
    "def summaries(dataset):\n",
    "    summaries={}\n",
    "    for clas, instances in dataset.items():\n",
    "        mean=(np.mean(instances,axis=0)).tolist()[:][:-1]\n",
    "        std=(np.std(instances,axis=0)).tolist()[:][:-1]\n",
    "        summaries[clas]=[item for item in zip(mean,std)]\n",
    "    return summaries"
   ]
  },
  {
   "cell_type": "code",
   "execution_count": null,
   "metadata": {},
   "outputs": [],
   "source": [
    "def probablity(x,mean,std):\n",
    "    z=(x-mean)/std\n",
    "    e=np.exp(-(z**2)/2)\n",
    "    return e/(np.sqrt(2*np.pi)*std)\n",
    "\n",
    "def classprobab(summaries,input_vector):\n",
    "    probab={}\n",
    "    y=len(summaries[1.00])\n",
    "    n=len(summaries[0.00])\n",
    "    Py=y/(y+n)\n",
    "    Pn=n/(y+n)\n",
    "    for clas, value in summaries.items():\n",
    "        probab[clas]=1\n",
    "        for i in range(len(input_vector)):\n",
    "            mean,std=value[i]\n",
    "            x=input_vector[i]\n",
    "            probab[clas]*=probablity(x,mean,std)\n",
    "            \n",
    "        if clas==0.00:\n",
    "            probab[clas]*=Pn\n",
    "        else:\n",
    "            probab[clas]*=Py\n",
    "            \n",
    "    return probab"
   ]
  },
  {
   "cell_type": "code",
   "execution_count": null,
   "metadata": {},
   "outputs": [],
   "source": [
    "def predict(summaries,input_vector):\n",
    "    probab=classprobab(summaries,input_vector)\n",
    "    bestlabel,bestvalue=None,-1\n",
    "    for clas,value in probab.items():\n",
    "        if value>bestvalue or bestlabel==None:\n",
    "            bestvalue=value\n",
    "            bestlabel=clas\n",
    "    return bestlabel\n",
    "        \n",
    "def get_predictions(summaries,test):\n",
    "    predictions=[]\n",
    "    for i in range(len(test)):\n",
    "        bestlabel=predict(summaries,test[i])\n",
    "        predictions.append(bestlabel)\n",
    "    return predictions\n",
    "\n",
    "def results(predictions,truevalue):\n",
    "    TP,TN,FP,FN=0,0,0,0\n",
    "    for i in range(len(predictions)):\n",
    "        if predictions[i]==1.0 and truevalue[i]==1.0:\n",
    "            TP+=1\n",
    "        if predictions[i]==0.0 and truevalue[i]==1.0:\n",
    "            FP+=1\n",
    "        if predictions[i]==1.0 and truevalue[i]==0.0:\n",
    "            FN+=1\n",
    "        else:\n",
    "            TN+=1\n",
    "    arr=np.array([[TP,FP],[FN,TN]])\n",
    "    print(arr)\n",
    "    return (TP+TN)/(TP+TN+FP+FN)"
   ]
  },
  {
   "cell_type": "code",
   "execution_count": 69,
   "metadata": {},
   "outputs": [
    {
     "name": "stdout",
     "output_type": "stream",
     "text": [
      "[[ 56  30]\n",
      " [ 29 202]]\n",
      "81.38801261829653\n"
     ]
    }
   ],
   "source": [
    "        \n",
    "t=splitdataset(data,0.70)\n",
    "train=t[0]\n",
    "test=np.array(t[1])[:,:-1]\n",
    "truevalue=np.array(t[1])[:,-1]\n",
    "sep=classsep(train)\n",
    "summaries=summaries(sep)\n",
    "predictions=get_predictions(summaries,test)\n",
    "print(results(predictions,truevalue)*100)"
   ]
  },
  {
   "cell_type": "code",
   "execution_count": null,
   "metadata": {},
   "outputs": [],
   "source": []
  },
  {
   "cell_type": "code",
   "execution_count": 1,
   "metadata": {},
   "outputs": [],
   "source": [
    "import numpy as np"
   ]
  },
  {
   "cell_type": "code",
   "execution_count": null,
   "metadata": {},
   "outputs": [],
   "source": []
  }
 ],
 "metadata": {
  "kernelspec": {
   "display_name": "Python 3",
   "language": "python",
   "name": "python3"
  },
  "language_info": {
   "codemirror_mode": {
    "name": "ipython",
    "version": 3
   },
   "file_extension": ".py",
   "mimetype": "text/x-python",
   "name": "python",
   "nbconvert_exporter": "python",
   "pygments_lexer": "ipython3",
   "version": "3.7.6"
  }
 },
 "nbformat": 4,
 "nbformat_minor": 4
}
