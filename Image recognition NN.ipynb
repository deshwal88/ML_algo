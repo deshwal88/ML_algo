{
 "cells": [
  {
   "cell_type": "markdown",
   "metadata": {},
   "source": [
    "## Import required Liberaries"
   ]
  },
  {
   "cell_type": "code",
   "execution_count": 1,
   "metadata": {},
   "outputs": [],
   "source": [
    "import pandas as pd\n",
    "import matplotlib.pyplot as plt\n",
    "import numpy as np\n",
    "import seaborn as sns\n",
    "from ipywidgets import interact\n",
    "import time "
   ]
  },
  {
   "cell_type": "markdown",
   "metadata": {},
   "source": [
    "## Loading Data"
   ]
  },
  {
   "cell_type": "code",
   "execution_count": 1,
   "metadata": {},
   "outputs": [
    {
     "name": "stdout",
     "output_type": "stream",
     "text": [
      "Archive:  /home/kanishk/Downloads/NN_MNIST.zip\n",
      "  inflating: Nearest_neighbor_MNIST.ipynb  \n",
      "  inflating: Nearest_neighbor_MNIST-checkpoint.ipynb  \n",
      "  inflating: test_labels.npy         \n",
      "  inflating: train_labels.npy        \n",
      "  inflating: test_data.npy           \n",
      "  inflating: train_data.npy          \n"
     ]
    }
   ],
   "source": [
    "!unzip -o -j '/home/kanishk/Downloads/NN_MNIST.zip'"
   ]
  },
  {
   "cell_type": "code",
   "execution_count": 2,
   "metadata": {},
   "outputs": [],
   "source": [
    "train_set=np.load('/home/kanishk/train_data.npy')\n",
    "test_set=np.load('/home/kanishk/test_data.npy')\n",
    "train_labels=np.load('/home/kanishk/train_labels.npy')\n",
    "test_labels=np.load('/home/kanishk/test_labels.npy')"
   ]
  },
  {
   "cell_type": "code",
   "execution_count": 3,
   "metadata": {},
   "outputs": [
    {
     "data": {
      "text/plain": [
       "{0: 750,\n",
       " 1: 750,\n",
       " 2: 750,\n",
       " 3: 750,\n",
       " 4: 750,\n",
       " 5: 750,\n",
       " 6: 750,\n",
       " 7: 750,\n",
       " 8: 750,\n",
       " 9: 750}"
      ]
     },
     "execution_count": 3,
     "metadata": {},
     "output_type": "execute_result"
    }
   ],
   "source": [
    "values, counts=np.unique(train_labels,return_counts=True)\n",
    "dict(zip(values,counts))"
   ]
  },
  {
   "cell_type": "markdown",
   "metadata": {},
   "source": [
    "## Visualizing Data"
   ]
  },
  {
   "cell_type": "code",
   "execution_count": 4,
   "metadata": {},
   "outputs": [],
   "source": [
    "def image(index,data):\n",
    "    if data==\"train\":\n",
    "        plt.imshow(train_set[index].reshape((28,28)),plt.cm.binary)\n",
    "        plt.title('Label: '+str(train_labels[index]))\n",
    "\n",
    "    else:\n",
    "        plt.imshow(test_set[index].reshape((28,28)),plt.cm.binary)\n",
    "        plt.title('Label: '+str(test_labels[index]))    "
   ]
  },
  {
   "cell_type": "code",
   "execution_count": 5,
   "metadata": {},
   "outputs": [
    {
     "data": {
      "image/png": "[encoded data removed]",
      "text/plain": [
       "<Figure size 432x288 with 1 Axes>"
      ]
     },
     "metadata": {
      "needs_background": "light"
     },
     "output_type": "display_data"
    }
   ],
   "source": [
    "image(5,'test')"
   ]
  },
  {
   "cell_type": "code",
   "execution_count": 6,
   "metadata": {},
   "outputs": [
    {
     "data": {
      "image/png": "[encoded data removed]",
      "text/plain": [
       "<Figure size 432x288 with 1 Axes>"
      ]
     },
     "metadata": {
      "needs_background": "light"
     },
     "output_type": "display_data"
    }
   ],
   "source": [
    "image(5,'train')"
   ]
  },
  {
   "cell_type": "markdown",
   "metadata": {},
   "source": [
    "\n",
    "## Implementing Nearest Neighbors Approach "
   ]
  },
  {
   "cell_type": "code",
   "execution_count": 7,
   "metadata": {},
   "outputs": [],
   "source": [
    "class NN_classifier:\n",
    "    test_case=[]\n",
    "    train=[]\n",
    "    ylabel=0\n",
    "    xlabel=0\n",
    "    dist=[]\n",
    "    \n",
    "    def __init__(self,x,x_label,y,y_label):\n",
    "        self.test_case=x\n",
    "        self.train=y\n",
    "        self.xlabel=x_label\n",
    "        self.ylabel=y_label\n",
    "        self.dist=[np.sqrt(np.sum((self.test_case-value)**2)) for value in self.train]\n",
    "    \n",
    "    def label(self):\n",
    "        return self.ylabel[np.argmin(self.dist)]\n",
    "    \n",
    "    def show_pred(self):\n",
    "        plt.imshow(self.train[np.argmin(self.dist)].reshape((28,28)),plt.cm.gray)\n",
    "        plt.title('Label: '+str(self.ylabel[np.argmin(self.dist)]))\n",
    "        plt.show()\n",
    "    \n",
    "    def show_act(self):\n",
    "        plt.imshow(self.test_case.reshape((28,28)),plt.cm.gray)\n",
    "        plt.title('Label: '+str(self.xlabel))\n",
    "        plt.show()"
   ]
  },
  {
   "cell_type": "code",
   "execution_count": 8,
   "metadata": {},
   "outputs": [
    {
     "data": {
      "application/vnd.jupyter.widget-view+json": {
       "model_id": "2bc93061ca304142863a1e445f4ea8bd",
       "version_major": 2,
       "version_minor": 0
      },
      "text/plain": [
       "interactive(children=(Dropdown(description='arg', options=(0, 1, 2, 3, 4, 5, 6, 7, 8, 9, 10, 11, 12, 13, 14, 1…"
      ]
     },
     "metadata": {},
     "output_type": "display_data"
    }
   ],
   "source": [
    "@interact\n",
    "def results(arg=range(len(test_set)),att=['label','show_pred','show_act']):\n",
    "    model=NN_classifier(test_set[arg],test_labels[arg],train_set,train_labels)\n",
    "    a=eval('model.{}()'.format(att))\n",
    "    if a!=None:\n",
    "        print(a)"
   ]
  },
  {
   "cell_type": "markdown",
   "metadata": {},
   "source": [
    "## Processing full test with Error calculation"
   ]
  },
  {
   "cell_type": "markdown",
   "metadata": {},
   "source": [
    "Classification time falls in a specific range. Within a range the time taken depends upon the efficiency of the\n",
    "machine i.e. the processor, here i have i3 processor."
   ]
  },
  {
   "cell_type": "markdown",
   "metadata": {},
   "source": [
    "1. Implementing Classifier using class"
   ]
  },
  {
   "cell_type": "code",
   "execution_count": 9,
   "metadata": {},
   "outputs": [
    {
     "name": "stdout",
     "output_type": "stream",
     "text": [
      "Classification time: 135.0784740447998\n"
     ]
    }
   ],
   "source": [
    "pred=[]\n",
    "t_before=time.time()\n",
    "for i in range(len(test_set)):\n",
    "    model=NN_classifier(test_set[i],test_labels[i],train_set,train_labels)\n",
    "    pred.append(model.label())\n",
    "t_after=time.time()\n",
    "print('Classification time: '+ str(t_after-t_before))"
   ]
  },
  {
   "cell_type": "markdown",
   "metadata": {},
   "source": [
    "2. Implementing Classifier using simple function"
   ]
  },
  {
   "cell_type": "code",
   "execution_count": null,
   "metadata": {},
   "outputs": [],
   "source": [
    "def NN(x):\n",
    "    dist=[sum((x-train_set[i])**2) for i in range(len(train_set))]\n",
    "    return train_labels[np.argmin(dist)]\n",
    "t_before=time.time()\n",
    "predict=[NN(value) for value in test_set]\n",
    "t_after=time.time()\n",
    "print('Classification time: '+str(t_after-t_before))"
   ]
  },
  {
   "cell_type": "markdown",
   "metadata": {},
   "source": [
    "Error Calculation"
   ]
  },
  {
   "cell_type": "code",
   "execution_count": 14,
   "metadata": {},
   "outputs": [
    {
     "name": "stdout",
     "output_type": "stream",
     "text": [
      "Error: 0.046\n"
     ]
    }
   ],
   "source": [
    "error=np.not_equal(pred,test_labels).sum()/len(test_set)\n",
    "print('Error: '+str(error))"
   ]
  },
  {
   "cell_type": "markdown",
   "metadata": {},
   "source": [
    "## Faster Nearest Neighbor methods"
   ]
  },
  {
   "cell_type": "markdown",
   "metadata": {},
   "source": [
    "### Ball Tree Approach"
   ]
  },
  {
   "cell_type": "code",
   "execution_count": 19,
   "metadata": {},
   "outputs": [
    {
     "name": "stdout",
     "output_type": "stream",
     "text": [
      "Training time: 2.4600791931152344\n"
     ]
    }
   ],
   "source": [
    "from sklearn.neighbors import BallTree\n",
    "t_before=time.time()\n",
    "model1=BallTree(train_set)\n",
    "t_after=time.time()\n",
    "print('Training time: '+str(t_after-t_before))"
   ]
  },
  {
   "cell_type": "code",
   "execution_count": 48,
   "metadata": {},
   "outputs": [
    {
     "name": "stdout",
     "output_type": "stream",
     "text": [
      "Classification_time: 11.339403629302979\n"
     ]
    }
   ],
   "source": [
    "t_before=time.time()\n",
    "indices=model1.query(test_set,return_distance=False)\n",
    "indices=np.squeeze(indices)\n",
    "predictions=train_labels[indices]\n",
    "t_after=time.time()\n",
    "print('Classification_time: '+str(t_after-t_before))"
   ]
  },
  {
   "cell_type": "code",
   "execution_count": 50,
   "metadata": {},
   "outputs": [
    {
     "name": "stdout",
     "output_type": "stream",
     "text": [
      "Error: 0.046\n"
     ]
    }
   ],
   "source": [
    "error=np.not_equal(predictions,test_labels).sum()/len(test_set)\n",
    "print('Error: '+str(error))"
   ]
  },
  {
   "cell_type": "markdown",
   "metadata": {},
   "source": [
    "### KD-Tree Approach"
   ]
  },
  {
   "cell_type": "code",
   "execution_count": 55,
   "metadata": {},
   "outputs": [
    {
     "name": "stdout",
     "output_type": "stream",
     "text": [
      "Training time: 2.414646863937378\n"
     ]
    }
   ],
   "source": [
    "from sklearn.neighbors import KDTree\n",
    "t_before=time.time()\n",
    "model2=KDTree(train_set)\n",
    "t_after=time.time()\n",
    "print('Training time: '+str(t_after-t_before))"
   ]
  },
  {
   "cell_type": "code",
   "execution_count": 57,
   "metadata": {},
   "outputs": [
    {
     "name": "stdout",
     "output_type": "stream",
     "text": [
      "Classification time: 2.414646863937378\n"
     ]
    }
   ],
   "source": [
    "time_before=time.time()\n",
    "indices=model2.query(test_set,return_distance=False)\n",
    "indices=np.squeeze(indices)\n",
    "predictions=train_labels[indices]\n",
    "time_after=time.time()\n",
    "print('Classification time: '+str(t_after-t_before))"
   ]
  },
  {
   "cell_type": "code",
   "execution_count": 58,
   "metadata": {},
   "outputs": [
    {
     "name": "stdout",
     "output_type": "stream",
     "text": [
      "Error: 0.046\n"
     ]
    }
   ],
   "source": [
    "error=np.not_equal(predictions,test_labels).sum()/len(test_set)\n",
    "print('Error: '+str(error))"
   ]
  }
 ],
 "metadata": {
  "kernelspec": {
   "display_name": "Python 3",
   "language": "python",
   "name": "python3"
  },
  "language_info": {
   "codemirror_mode": {
    "name": "ipython",
    "version": 3
   },
   "file_extension": ".py",
   "mimetype": "text/x-python",
   "name": "python",
   "nbconvert_exporter": "python",
   "pygments_lexer": "ipython3",
   "version": "3.7.6"
  }
 },
 "nbformat": 4,
 "nbformat_minor": 4
}
