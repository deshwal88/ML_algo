{
 "cells": [
  {
   "cell_type": "markdown",
   "metadata": {},
   "source": [
    "# Importing required liberaries"
   ]
  },
  {
   "cell_type": "code",
   "execution_count": 1,
   "metadata": {},
   "outputs": [],
   "source": [
    "import pandas as pd\n",
    "import matplotlib.pyplot as plt\n",
    "import numpy as np\n",
    "import seaborn as sns\n",
    "from ipywidgets import interact\n",
    "import time "
   ]
  },
  {
   "cell_type": "code",
   "execution_count": 2,
   "metadata": {},
   "outputs": [
    {
     "name": "stdout",
     "output_type": "stream",
     "text": [
      "Archive:  /home/kanishk/Downloads/NN_spine.zip\r\n",
      "   creating: NN_spine/\r\n",
      "   creating: NN_spine/.ipynb_checkpoints/\r\n",
      "  inflating: NN_spine/.ipynb_checkpoints/Nearest_neighbor_spine-checkpoint.ipynb  \r\n",
      "  inflating: NN_spine/.ipynb_checkpoints/NN_spine_solution-checkpoint.ipynb  \r\n",
      "  inflating: NN_spine/.nbgrader.log  \r\n",
      "  inflating: NN_spine/column_3C.dat  \r\n",
      "  inflating: NN_spine/confusion_matrix.png  \r\n",
      "  inflating: NN_spine/Nearest_neighbor_spine.ipynb  \r\n"
     ]
    }
   ],
   "source": [
    "!unzip '/home/kanishk/Downloads/NN_spine.zip'"
   ]
  },
  {
   "cell_type": "code",
   "execution_count": 3,
   "metadata": {},
   "outputs": [],
   "source": [
    "labels = [b'NO', b'DH', b'SL']\n",
    "data=np.loadtxt('/home/kanishk/NN_spine/column_3C.dat',converters={6:lambda x: labels.index(x)})"
   ]
  },
  {
   "cell_type": "markdown",
   "metadata": {},
   "source": [
    "Splitting Dataset into Training and Testing dataset"
   ]
  },
  {
   "cell_type": "code",
   "execution_count": 4,
   "metadata": {},
   "outputs": [],
   "source": [
    "split=np.random.rand((len(data)))<0.80\n",
    "trainx=data[split][:,:-1]\n",
    "trainy=data[split][:,-1]\n",
    "testx=data[~split][:,:-1]\n",
    "testy=data[~split][:,-1]"
   ]
  },
  {
   "cell_type": "markdown",
   "metadata": {},
   "source": [
    "# Implementation using different distance functions"
   ]
  },
  {
   "cell_type": "code",
   "execution_count": 5,
   "metadata": {},
   "outputs": [],
   "source": [
    "def NN(trainx,trainy,testx,dist='L2'):\n",
    "    \n",
    "    def dist_L1(x):\n",
    "        distance=[sum(np.abs(value-x)) for value in trainx]\n",
    "        return trainy[np.argmin(distance)]\n",
    "    \n",
    "    def dist_L2(x):\n",
    "        distance=[sum(np.square(value-x)) for value in trainx]\n",
    "        return trainy[np.argmin(distance)]\n",
    "    \n",
    "    if dist=='L1':\n",
    "        return np.array([int(dist_L1(x)) for x in testx])\n",
    "    if dist=='L2':\n",
    "        return np.array([int(dist_L2(x)) for x in testx])\n",
    "    else:\n",
    "        raise ValueError('Value {0} not defined'.format(dist))\n",
    "    "
   ]
  },
  {
   "cell_type": "code",
   "execution_count": 6,
   "metadata": {},
   "outputs": [],
   "source": [
    "y_L1=NN(trainx,trainy,testx,'L1')\n",
    "y_L2=NN(trainx,trainy,testx,'L2')"
   ]
  },
  {
   "cell_type": "markdown",
   "metadata": {},
   "source": [
    "# Test errors"
   ]
  },
  {
   "cell_type": "code",
   "execution_count": 25,
   "metadata": {},
   "outputs": [],
   "source": [
    "def confusion_matix(pred,true):\n",
    "    mat=np.zeros((3,3))\n",
    "    for i in range(len(true)):\n",
    "            mat[int(true[i]),int(pred[i])]+=1\n",
    "    return mat\n",
    "\n",
    "def error(pred,true):\n",
    "    return np.not_equal(pred,true).sum()/len(true)\n",
    "label=['NO','DH','SL']"
   ]
  },
  {
   "cell_type": "markdown",
   "metadata": {},
   "source": [
    "For L1 distance"
   ]
  },
  {
   "cell_type": "code",
   "execution_count": 26,
   "metadata": {},
   "outputs": [
    {
     "name": "stdout",
     "output_type": "stream",
     "text": [
      "Error using L1 distance: 0.12903225806451613\n",
      "Confusion matrix for L1:\n",
      "\n",
      " [[17.  5.  1.]\n",
      " [ 2.  9.  0.]\n",
      " [ 0.  0. 28.]]\n"
     ]
    },
    {
     "data": {
      "image/png": "[encoded data removed]",
      "text/plain": [
       "<Figure size 432x288 with 2 Axes>"
      ]
     },
     "metadata": {
      "needs_background": "light"
     },
     "output_type": "display_data"
    }
   ],
   "source": [
    "print('Error using L1 distance: '+str(error(y_L1,testy)))\n",
    "print('Confusion matrix for L1:\\n\\n '+str(confusion_matix(y_L1,testy)))\n",
    "plt.imshow(confusion_matix(y_L1,testy),plt.cm.Blues)\n",
    "plt.colorbar()\n",
    "plt.title('For L1 distance')\n",
    "plt.xlabel('Predicted Label')\n",
    "plt.ylabel('True label')\n",
    "plt.xticks([0,1,2],label)\n",
    "plt.yticks([0,1,2],label)\n",
    "plt.show()"
   ]
  },
  {
   "cell_type": "markdown",
   "metadata": {},
   "source": [
    "For L2 distance"
   ]
  },
  {
   "cell_type": "code",
   "execution_count": 27,
   "metadata": {},
   "outputs": [
    {
     "name": "stdout",
     "output_type": "stream",
     "text": [
      "Error using L2 distance: 0.12903225806451613\n",
      "Confusion matrix for L2:\n",
      "\n",
      " [[16.  5.  2.]\n",
      " [ 1. 10.  0.]\n",
      " [ 0.  0. 28.]]\n"
     ]
    },
    {
     "data": {
      "image/png": "[encoded data removed]",
      "text/plain": [
       "<Figure size 432x288 with 2 Axes>"
      ]
     },
     "metadata": {
      "needs_background": "light"
     },
     "output_type": "display_data"
    }
   ],
   "source": [
    "print('Error using L2 distance: '+str(error(y_L2,testy)))\n",
    "print('Confusion matrix for L2:\\n\\n '+str(confusion_matix(y_L2,testy)))\n",
    "plt.imshow(confusion_matix(y_L2,testy),plt.cm.Blues)\n",
    "plt.colorbar()\n",
    "plt.title('For L2 distance')\n",
    "plt.xlabel('Predicted Label')\n",
    "plt.ylabel('True label')\n",
    "plt.xticks([0,1,2],label)\n",
    "plt.yticks([0,1,2],label)\n",
    "plt.show()"
   ]
  },
  {
   "cell_type": "code",
   "execution_count": null,
   "metadata": {},
   "outputs": [],
   "source": []
  }
 ],
 "metadata": {
  "kernelspec": {
   "display_name": "Python 3",
   "language": "python",
   "name": "python3"
  },
  "language_info": {
   "codemirror_mode": {
    "name": "ipython",
    "version": 3
   },
   "file_extension": ".py",
   "mimetype": "text/x-python",
   "name": "python",
   "nbconvert_exporter": "python",
   "pygments_lexer": "ipython3",
   "version": "3.7.6"
  }
 },
 "nbformat": 4,
 "nbformat_minor": 4
}
