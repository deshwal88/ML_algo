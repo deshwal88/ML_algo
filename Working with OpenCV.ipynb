{
 "cells": [
  {
   "cell_type": "code",
   "execution_count": null,
   "metadata": {},
   "outputs": [],
   "source": [
    "import numpy as np\n",
    "import os\n",
    "import cv2 as cv"
   ]
  },
  {
   "cell_type": "markdown",
   "metadata": {},
   "source": [
    "#### Reading images"
   ]
  },
  {
   "cell_type": "code",
   "execution_count": 128,
   "metadata": {},
   "outputs": [],
   "source": [
    "loc='./AICTE_project/img_classification/rice/Brown spot'\n",
    "img_loc=os.listdir('./AICTE_project/img_classification/rice/Brown spot')[0]\n",
    "file_path=os.path.join(loc,img_loc)\n",
    "\n",
    "img=cv.imread(file_path)\n",
    "img_2=cv.resize(img,(500,200),interpolation=cv.INTER_AREA)\n",
    "cv.imshow('rice',img)\n",
    "cv.waitKey(0)  \n",
    "cv.destroyAllWindows()"
   ]
  },
  {
   "cell_type": "markdown",
   "metadata": {},
   "source": [
    "#### Reading video frames"
   ]
  },
  {
   "cell_type": "code",
   "execution_count": 69,
   "metadata": {},
   "outputs": [],
   "source": [
    "vid_loc='./'+os.listdir('./')[-2]\n",
    "capture=cv.VideoCapture(vid_loc)\n",
    "\n",
    "while(True):  \n",
    "    try:\n",
    "        cond,frame=capture.read()\n",
    "        frame=cv.resize(frame,(720,360),interpolation=cv.INTER_AREA)\n",
    "        cv.imshow('trip',frame)\n",
    "\n",
    "        if cv.waitKey(1)==ord('d'):\n",
    "            break\n",
    "    except:\n",
    "        break\n",
    "capture.release()\n",
    "cv.destroyAllWindows()"
   ]
  },
  {
   "cell_type": "markdown",
   "metadata": {},
   "source": [
    "#### Going live"
   ]
  },
  {
   "cell_type": "code",
   "execution_count": 83,
   "metadata": {},
   "outputs": [],
   "source": [
    "capture_live=cv.VideoCapture(0)\n",
    "capture_live.set(3,1080)\n",
    "capture_live.set(4,720)\n",
    "\n",
    "while(True):  \n",
    "    cond,frame=capture_live.read()\n",
    "    cv.imshow('trip',frame)\n",
    "    if cv.waitKey(1)==ord('d'):\n",
    "        break\n",
    "capture_live.release()\n",
    "cv.destroyAllWindows()"
   ]
  }
 ],
 "metadata": {
  "kernelspec": {
   "display_name": "Python 3",
   "language": "python",
   "name": "python3"
  },
  "language_info": {
   "codemirror_mode": {
    "name": "ipython",
    "version": 3
   },
   "file_extension": ".py",
   "mimetype": "text/x-python",
   "name": "python",
   "nbconvert_exporter": "python",
   "pygments_lexer": "ipython3",
   "version": "3.8.0"
  }
 },
 "nbformat": 4,
 "nbformat_minor": 4
}
