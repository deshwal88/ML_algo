{
 "cells": [
  {
   "cell_type": "code",
   "execution_count": 153,
   "metadata": {},
   "outputs": [
    {
     "name": "stdout",
     "output_type": "stream",
     "text": [
      "(156, 12)\n",
      "              precision    recall  f1-score   support\n",
      "\n",
      "           0       0.87      0.90      0.89        30\n",
      "           1       0.57      0.50      0.53         8\n",
      "\n",
      "    accuracy                           0.82        38\n",
      "   macro avg       0.72      0.70      0.71        38\n",
      "weighted avg       0.81      0.82      0.81        38\n",
      "\n",
      "[[27  3]\n",
      " [ 4  4]]\n"
     ]
    },
    {
     "data": {
      "text/plain": [
       "0.8157894736842105"
      ]
     },
     "execution_count": 153,
     "metadata": {},
     "output_type": "execute_result"
    }
   ],
   "source": [
    "import numpy as np\n",
    "import pandas as pd\n",
    "import matplotlib.pyplot as plt\n",
    "import sklearn\n",
    "import seaborn as sns\n",
    "import matplotlib \n",
    "%matplotlib inline\n",
    "\n",
    "data=pd.read_csv('/home/kanishk/Downloads/titanic.csv',delimiter='\\t')\n",
    "print(data.shape)\n",
    "data.drop(labels='Cabin',axis=1,inplace=True)\n",
    "data.dropna(inplace=True)\n",
    "sex=pd.get_dummies(data['Sex'],drop_first=True)\n",
    "embarked=pd.get_dummies(data['Embarked'],drop_first=True)\n",
    "pclass=pd.get_dummies(data['Pclass'],drop_first=True)\n",
    "data=pd.concat([data,sex,embarked,pclass],axis=1)\n",
    "data.drop(labels=['Sex','Embarked','Ticket','PassengerId','Name','Pclass'],axis=1,inplace=True)\n",
    "\n",
    "x=data.drop('Survived',axis=1).values\n",
    "y=data['Survived'].values\n",
    "\n",
    "from sklearn.model_selection import train_test_split\n",
    "X_train,X_test,Y_train,Y_test=train_test_split(x,y,test_size=0.3,random_state=1)\n",
    "\n",
    "from sklearn.linear_model import LogisticRegression\n",
    "logmodel=LogisticRegression(solver='liblinear')\n",
    "logmodel.fit(X_train,Y_train)\n",
    "predictions=logmodel.predict(X_test)\n",
    "\n",
    "from sklearn.metrics import classification_report, confusion_matrix, accuracy_score\n",
    "print(classification_report(Y_test,predictions))\n",
    "print(confusion_matrix(Y_test,predictions))\n",
    "accuracy_score(Y_test,predictions)"
   ]
  },
  {
   "cell_type": "code",
   "execution_count": null,
   "metadata": {},
   "outputs": [],
   "source": []
  }
 ],
 "metadata": {
  "kernelspec": {
   "display_name": "Python 3",
   "language": "python",
   "name": "python3"
  },
  "language_info": {
   "codemirror_mode": {
    "name": "ipython",
    "version": 3
   },
   "file_extension": ".py",
   "mimetype": "text/x-python",
   "name": "python",
   "nbconvert_exporter": "python",
   "pygments_lexer": "ipython3",
   "version": "3.7.6"
  }
 },
 "nbformat": 4,
 "nbformat_minor": 4
}
