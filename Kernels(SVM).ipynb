{
 "cells": [
  {
   "cell_type": "markdown",
   "metadata": {},
   "source": [
    "## Support vector machine usinf kernels"
   ]
  },
  {
   "cell_type": "code",
   "execution_count": 1,
   "metadata": {},
   "outputs": [],
   "source": [
    "from zipfile import ZipFile\n",
    "import numpy as np\n",
    "import matplotlib.pyplot as plt\n",
    "from sklearn.svm import SVC\n",
    "%matplotlib inline"
   ]
  },
  {
   "cell_type": "markdown",
   "metadata": {},
   "source": [
    "The inbuilt Support vector machine in sk-learn module provides both Linear SVC and SVC,i.e. for both linear classification and polynomial classification (using kernels). SVC provides many kernels linear(LinearSVC), rbf(radial basis function) and polynomial.<br>\n",
    "<br>\n",
    "'degree' refers to the degree of polynomial.<br>\n",
    "'coef0' is the coeficient in the kernel trick, i.e. the dot product in lower dimension plus one raised to the power of the max polynomial term corresponds to the dot product in higher dimension. Here '1' is the coef0.<br>\n",
    "'gamma' refers to the 1/2 square of s in the 'rbf' function."
   ]
  },
  {
   "cell_type": "code",
   "execution_count": 2,
   "metadata": {},
   "outputs": [],
   "source": [
    "def load(n):\n",
    "    return np.genfromtxt('../Datasets ML/svm data/data{0}.txt'.format(str(n)))\n",
    "\n",
    "def show_boundary(n,kernel='linear',c=1,s=1):\n",
    "    plt.figure(figsize=(7,5))\n",
    "    dataset=load(n)\n",
    "    x=dataset[:,0:-1]\n",
    "    y=dataset[:,-1]\n",
    "    \n",
    "    g=1/(2*(s*s))\n",
    "    coef=1\n",
    "\n",
    "    if kernel=='rbf':\n",
    "        model=SVC(C=c,kernel='rbf',gamma=g)\n",
    "        \n",
    "    elif kernel=='poly':\n",
    "        model=SVC(C=c,kernel='poly',degree=2,coef0=coef)\n",
    "        \n",
    "    else:\n",
    "        model=SVC(C=c,kernel='linear')\n",
    "    \n",
    "    model.fit(x,y)\n",
    "    sv=np.zeros(len(y),dtype=bool)\n",
    "    sv[model.support_]=True\n",
    "    nsv=np.logical_not(sv)\n",
    "    \n",
    "    x1_max=max(x[:,0])+1\n",
    "    x1_min=min(x[:,0])-1\n",
    "    x2_max=max(x[:,1])+1\n",
    "    x2_min=min(x[:,1])-1\n",
    "    \n",
    "    x1=np.arange(x1_min,x1_max,0.05)\n",
    "    x2=np.arange(x2_min,x2_max,0.05)\n",
    "    xx1,xx2=np.meshgrid(x1,x2)\n",
    "    \n",
    "    plt.plot(x[(y==1)*sv,0],x[(y==1)*sv,1],'ro',markersize=10)\n",
    "    plt.plot(x[(y==1)*nsv,0],x[(y==1)*nsv,1],'ro')\n",
    "    plt.plot(x[(y==-1)*sv,0],x[(y==-1)*sv,1],'k^',markersize=10)\n",
    "    plt.plot(x[(y==-1)*nsv,0],x[(y==-1)*nsv,1],'k^')\n",
    "    \n",
    "    val=np.c_[xx1.ravel(),xx2.ravel()]\n",
    "    z=model.decision_function(val)\n",
    "    \n",
    "    for i in range(len(z)):\n",
    "        \n",
    "        z[i]=min(z[i],1)\n",
    "        z[i]=max(z[i],-1)\n",
    "        \n",
    "        if (z[i]<1) & (z[i]>0):\n",
    "            z[i]=0.5\n",
    "            \n",
    "        elif (z[i]<0) & (z[i]>-1):\n",
    "            z[i]=-0.5\n",
    "            \n",
    "    plt.pcolormesh(xx1,xx2,z.reshape(xx1.shape),cmap=plt.cm.PRGn,vmin=-2,vmax=2)\n",
    "    plt.show()\n",
    "    "
   ]
  },
  {
   "cell_type": "code",
   "execution_count": 3,
   "metadata": {},
   "outputs": [
    {
     "data": {
      "application/vnd.jupyter.widget-view+json": {
       "model_id": "62acff0d9f02459d88f8c3f487eb23b0",
       "version_major": 2,
       "version_minor": 0
      },
      "text/plain": [
       "interactive(children=(IntSlider(value=1, description='n', max=5, min=1), Dropdown(description='kernel', index=…"
      ]
     },
     "metadata": {},
     "output_type": "display_data"
    }
   ],
   "source": [
    "from ipywidgets import interact, interact_manual, IntSlider\n",
    "interact_manual(show_boundary,c=[0.01,0.1,10,100,1000],s=IntSlider(2,2,40,3),kernel=['rbf','linear','poly'],\n",
    "                n=IntSlider(1,1,5,1));"
   ]
  },
  {
   "cell_type": "markdown",
   "metadata": {},
   "source": [
    "## Kernel Perceptron for 'poly' and 'rbf'"
   ]
  },
  {
   "cell_type": "code",
   "execution_count": 4,
   "metadata": {},
   "outputs": [],
   "source": [
    "def classifier(pt,x,y,alpha,b,kernel,s,deg):\n",
    "    if kernel=='poly':\n",
    "        k=(1+x.dot(pt.T))**deg\n",
    "        val=y*alpha*k\n",
    "        return np.sign(sum(val)+b)\n",
    "    \n",
    "    elif kernel=='rbf':\n",
    "        gamma=1/2*((s*s))\n",
    "        sim=(np.linalg.norm(x-pt,axis=1))**2\n",
    "        k=np.exp(-(sim*gamma))\n",
    "        val=y*alpha*k\n",
    "        return np.sign(sum(val))\n",
    "        \n",
    "def kernel_perceptron(n,kernel='rbf',s=0.1,deg=2):\n",
    "    data=load(n)\n",
    "    x=data[:,0:-1]\n",
    "    y=data[:,-1]\n",
    "    \n",
    "    iter=0\n",
    "    n=x.shape[0]\n",
    "    alpha=np.zeros(n)\n",
    "    b=0\n",
    "    converged=True\n",
    "    done=False\n",
    "    \n",
    "    while not(done):\n",
    "        done=True\n",
    "        ind=np.random.permutation(n)\n",
    "        \n",
    "        for i in ind:\n",
    "            label=classifier(x[i],x,y,alpha,b,kernel,s,deg)\n",
    "            \n",
    "            if y[i]!=label:\n",
    "                done=False\n",
    "                alpha[i]+=1\n",
    "                b+=1\n",
    "        iter+=1\n",
    "            \n",
    "        if iter>1000:\n",
    "            done=True\n",
    "            converged=False\n",
    "            \n",
    "    if converged:\n",
    "        print('converged at {0}'.format(iter))\n",
    "        \n",
    "    else:\n",
    "        print('Could\\'nt converge at {0}'.format(iter))        \n",
    "    \n",
    "    x1_max=max(x[:,0])+1\n",
    "    x1_min=min(x[:,0])-1\n",
    "    x2_max=max(x[:,1])+1\n",
    "    x2_min=min(x[:,1])-1\n",
    "    \n",
    "    x1=np.arange(x1_min,x1_max,0.05)\n",
    "    x2=np.arange(x2_min,x2_max,0.05)\n",
    "    xx1,xx2=np.meshgrid(x1,x2)\n",
    "    \n",
    "    plt.plot(x[(y==1),0],x[(y==1),1],'ro')\n",
    "    plt.plot(x[(y==-1),0],x[(y==-1),1],'k^')\n",
    "    \n",
    "    val=np.c_[xx1.ravel(),xx2.ravel()]\n",
    "    z=np.array([classifier(pt,x,y,alpha,b,kernel,s,deg) for pt in val])\n",
    "            \n",
    "    plt.pcolormesh(xx1,xx2,z.reshape(xx1.shape),cmap=plt.cm.PRGn,vmin=-2,vmax=2)\n",
    "    plt.show()"
   ]
  },
  {
   "cell_type": "code",
   "execution_count": 11,
   "metadata": {},
   "outputs": [
    {
     "data": {
      "application/vnd.jupyter.widget-view+json": {
       "model_id": "7de9f34d54ec47aeb364ac48d51a3618",
       "version_major": 2,
       "version_minor": 0
      },
      "text/plain": [
       "interactive(children=(IntSlider(value=1, description='n', max=5, min=1), Dropdown(description='kernel', option…"
      ]
     },
     "metadata": {},
     "output_type": "display_data"
    }
   ],
   "source": [
    "from ipywidgets import interact, interact_manual, IntSlider\n",
    "interact_manual(kernel_perceptron,s=[0.1,1,2,3,5],kernel=['rbf','poly'],n=IntSlider(1,1,5,1));"
   ]
  },
  {
   "cell_type": "code",
   "execution_count": 8,
   "metadata": {},
   "outputs": [],
   "source": [
    "dat=np.genfromtxt('C:/Users/deshw/Downloads/Datasets ML/perceptron_at_work/data_1.txt')"
   ]
  }
 ],
 "metadata": {
  "kernelspec": {
   "display_name": "Python 3",
   "language": "python",
   "name": "python3"
  },
  "language_info": {
   "codemirror_mode": {
    "name": "ipython",
    "version": 3
   },
   "file_extension": ".py",
   "mimetype": "text/x-python",
   "name": "python",
   "nbconvert_exporter": "python",
   "pygments_lexer": "ipython3",
   "version": "3.7.6"
  }
 },
 "nbformat": 4,
 "nbformat_minor": 4
}
