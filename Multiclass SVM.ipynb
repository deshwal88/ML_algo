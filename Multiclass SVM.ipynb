{
 "cells": [
  {
   "cell_type": "markdown",
   "metadata": {},
   "source": [
    "## Loading Dataset and libraries"
   ]
  },
  {
   "cell_type": "code",
   "execution_count": 2,
   "metadata": {},
   "outputs": [],
   "source": [
    "import numpy as np\n",
    "import matplotlib.pyplot as plt\n",
    "import sklearn.svm\n",
    "%matplotlib inline\n",
    "\n",
    "loc1='C:/Users/deshw/Downloads/Datasets ML/multiclass/data_3.txt'\n",
    "loc2='C:/Users/deshw/Downloads/Datasets ML/multiclass/data_4.txt'\n",
    "data_1=np.genfromtxt(loc1)\n",
    "data_2=np.genfromtxt(loc2)"
   ]
  },
  {
   "cell_type": "markdown",
   "metadata": {},
   "source": [
    "### Building a Classifier"
   ]
  },
  {
   "cell_type": "markdown",
   "metadata": {},
   "source": [
    "In multiclass, we fit a diiferent set of w and b for each class and classify points according to a calculated value(which may correspond to probablity or the perpendicular distance of the point from the line) given by: \n",
    "wx+b."
   ]
  },
  {
   "cell_type": "markdown",
   "metadata": {},
   "source": [
    "The value may be called as DECISION FUNCTION VALUE."
   ]
  },
  {
   "cell_type": "code",
   "execution_count": 3,
   "metadata": {},
   "outputs": [],
   "source": [
    "def classifier(x,w,b):\n",
    "    x=x.reshape((1,2))\n",
    "    variable=np.zeros(len(b))\n",
    "    variable=x.dot(w.T)+b\n",
    "    return np.argmax(variable)        "
   ]
  },
  {
   "cell_type": "markdown",
   "metadata": {},
   "source": [
    "### Training perceptron"
   ]
  },
  {
   "cell_type": "markdown",
   "metadata": {},
   "source": [
    "In training we define a loss function by wx+b everytime a point is misclassified. Thus by using gradient descent approach for optimization we add x to the w corresponding to true value and deppreciate the w with wrong level by x. In short, we go down the curve of true label thus optimizing the value for true level and go up the curve in case of wrong level to increase the loss."
   ]
  },
  {
   "cell_type": "code",
   "execution_count": 4,
   "metadata": {},
   "outputs": [],
   "source": [
    "def train(x,y,max_iter=100):\n",
    "    k=len(np.unique(y))\n",
    "    w=np.zeros((k,x.shape[1]))\n",
    "    b=np.zeros(k)\n",
    "    converged=True\n",
    "    done=False\n",
    "    label=0\n",
    "    iter=0\n",
    "    \n",
    "    while not(done):\n",
    "        done=True\n",
    "        ind=np.random.permutation(len(x))\n",
    "        for i in ind:\n",
    "            label=classifier(x[i,],w,b)\n",
    "            \n",
    "            if (label!=y[i]):\n",
    "                w[label,]-=x[i,]\n",
    "                w[y[i],]+=x[i,]\n",
    "                b[label]-=1\n",
    "                b[y[i]]+=1\n",
    "                done=False\n",
    "        iter+=1    \n",
    "        if iter>max_iter:\n",
    "            done=True\n",
    "            converged=False \n",
    "    if converged:\n",
    "        print('Converged at: ',iter)\n",
    "    else:\n",
    "        print('Cannot converge')\n",
    "            \n",
    "    return w,b,converged"
   ]
  },
  {
   "cell_type": "markdown",
   "metadata": {},
   "source": [
    "### Visualization of decision boundaries"
   ]
  },
  {
   "cell_type": "markdown",
   "metadata": {},
   "source": [
    "In binary Classification we had a line wx+b and putting it to zero we had our decision boundary but in case of multiclass we have multiple vlaues of w which does not act as a decision boundary but corresponds to the decision boundary as decisions are made according to the value(close to distance) from the line. Thus for an acceptable decision boundary we have to take random points to form a grid which are to be classified by the model to give an output which actually responds to the correct decision boundary."
   ]
  },
  {
   "cell_type": "code",
   "execution_count": 5,
   "metadata": {},
   "outputs": [],
   "source": [
    "def plot_pcolor(x,y,fun,converged=True):\n",
    "    plt.figure(figsize=(9,7))\n",
    "    \n",
    "    x1_max=max(x[:,0])+1\n",
    "    x1_min=min(x[:,0])-1\n",
    "    x2_max=max(x[:,1])+1\n",
    "    x2_min=min(x[:,1])-1\n",
    "    \n",
    "    plt.xlim(x1_min,x1_max)\n",
    "    plt.ylim(x2_min,x2_max)\n",
    "    \n",
    "    x1=np.arange(x1_min,x1_max,0.05)\n",
    "    x2=np.arange(x2_min,x2_max,0.05)\n",
    "    xx1,xx2=np.meshgrid(x1,x2)\n",
    "    \n",
    "    var=np.c_[xx1.ravel(),xx2.ravel()]\n",
    "    z=np.asanyarray([fun(pt) for pt in var])\n",
    "    Z=z.reshape(xx1.shape)\n",
    "    \n",
    "    k=np.unique(y)\n",
    "    m=['ro','g^','ko','b^']\n",
    "    c=['r','g','k','b']\n",
    "    \n",
    "    if converged:\n",
    "        plt.pcolormesh(xx1,xx2,Z,cmap=plt.cm.Pastel1,vmin=0,vmax=len(k))\n",
    "        \n",
    "    for i in k:\n",
    "        plt.plot(x[y==i,0],x[y==i,1],m[i],label='Class %d'%(i))\n",
    "        \n",
    "    plt.title('Decision Boundary',weight='bold',fontsize=14)\n",
    "    plt.xlabel('Feature 1',fontsize=12)\n",
    "    plt.ylabel('Feature 2', fontsize=12)\n",
    "    plt.legend()\n",
    "    plt.show()\n",
    "               "
   ]
  },
  {
   "cell_type": "markdown",
   "metadata": {},
   "source": [
    "### Evaluation of model"
   ]
  },
  {
   "cell_type": "code",
   "execution_count": 6,
   "metadata": {},
   "outputs": [],
   "source": [
    "def evaluate(data,max_iter=100):\n",
    "    x=data[:,0:-1]\n",
    "    y=np.array(data[:,-1],dtype='int')\n",
    "    w,b,converged=train(x,y)\n",
    "    fun=lambda pt: classifier(pt,w,b)\n",
    "     \n",
    "    if converged:\n",
    "        plot_pcolor(x,y,fun,converged)"
   ]
  },
  {
   "cell_type": "code",
   "execution_count": 7,
   "metadata": {},
   "outputs": [
    {
     "name": "stdout",
     "output_type": "stream",
     "text": [
      "Converged at:  16\n"
     ]
    },
    {
     "data": {
      "image/png": "[encoded data removed]",
      "text/plain": [
       "<Figure size 648x504 with 1 Axes>"
      ]
     },
     "metadata": {
      "needs_background": "light"
     },
     "output_type": "display_data"
    }
   ],
   "source": [
    "evaluate(data_1)"
   ]
  },
  {
   "cell_type": "code",
   "execution_count": 8,
   "metadata": {},
   "outputs": [
    {
     "name": "stdout",
     "output_type": "stream",
     "text": [
      "Converged at:  66\n"
     ]
    },
    {
     "data": {
      "image/png": "[encoded data removed]",
      "text/plain": [
       "<Figure size 648x504 with 1 Axes>"
      ]
     },
     "metadata": {
      "needs_background": "light"
     },
     "output_type": "display_data"
    }
   ],
   "source": [
    "evaluate(data_2)"
   ]
  },
  {
   "cell_type": "markdown",
   "metadata": {},
   "source": [
    "### Working with SVM"
   ]
  },
  {
   "cell_type": "markdown",
   "metadata": {},
   "source": [
    "For multi-class we must use 'crammer and singer' as it designs a single classifier for all the class. While 'ovr' or 'one vs rest' builts a different classifier for each class and decides on the basis of decision function value. 'Crammer and singer' is computationally high but is efficient while 'ovr' may cause class imbalance. So, for shorter dataset this approach is quite suitable."
   ]
  },
  {
   "cell_type": "code",
   "execution_count": 52,
   "metadata": {},
   "outputs": [
    {
     "data": {
      "application/vnd.jupyter.widget-view+json": {
       "model_id": "b251f0ede4954c58806a5744a110e090",
       "version_major": 2,
       "version_minor": 0
      },
      "text/plain": [
       "interactive(children=(Dropdown(description='dataset', options=('data_1', 'data_2'), value='data_1'), Dropdown(…"
      ]
     },
     "metadata": {},
     "output_type": "display_data"
    }
   ],
   "source": [
    "from sklearn import svm\n",
    "from ipywidgets import interact, interact_manual,IntSlider\n",
    "\n",
    "@interact_manual(dataset=['data_1','data_2'],c=[0.1,1,10,100,1000,10000],max_iter=[1000,2000,5000,8000,10000])\n",
    "def fit(dataset,max_iter=1000,c=1.0):\n",
    "    if dataset=='data_1':\n",
    "        data=data_1\n",
    "    else:\n",
    "        data=data_2\n",
    "    \n",
    "    x=data[:,0:-1]\n",
    "    y=np.array(data[:,-1],dtype='int')\n",
    "\n",
    "    model=svm.LinearSVC(loss='hinge',multi_class='crammer_singer',max_iter=max_iter,C=c)\n",
    "    model.fit(x,y)\n",
    "    fun=lambda pt: model.predict(pt.reshape(1,-1))\n",
    "\n",
    "    plot_pcolor(x,y,fun,converged)\n"
   ]
  },
  {
   "cell_type": "markdown",
   "metadata": {},
   "source": [
    "As seen, in comparison to perceptron SVM is more competent, as margin can be altered with variation in regularization parameter. With increase in C, slackness is decreased thus margin is decreased but the decision boundary is more definite as it passes just between the points.<br>"
   ]
  },
  {
   "cell_type": "markdown",
   "metadata": {},
   "source": [
    "For hard-margin: C is high - reduced slackness<br>\n",
    "For soft-margin: C is low - high slackness"
   ]
  },
  {
   "cell_type": "code",
   "execution_count": 68,
   "metadata": {},
   "outputs": [
    {
     "data": {
      "image/png": "[encoded data removed]",
      "text/plain": [
       "<Figure size 648x504 with 1 Axes>"
      ]
     },
     "metadata": {
      "needs_background": "light"
     },
     "output_type": "display_data"
    }
   ],
   "source": [
    "from sklearn.linear_model import LogisticRegression\n",
    "model=LogisticRegression(C=100,solver='newton-cg')\n",
    "x0=data_1[:,0:-1]\n",
    "PF=PolynomialFeatures()\n",
    "x=PF.fit_transform(x0)\n",
    "y=np.asanyarray(data_1[:,-1],dtype='int')\n",
    "model.fit(x,y)\n",
    "converged=True\n",
    "fun=lambda pt: model.predict(pt.reshape(1,-1))\n",
    "plot_pcolor1(x0,x,y,fun)\n",
    "\n"
   ]
  },
  {
   "cell_type": "code",
   "execution_count": 47,
   "metadata": {},
   "outputs": [],
   "source": [
    "from sklearn.preprocessing import PolynomialFeatures"
   ]
  },
  {
   "cell_type": "code",
   "execution_count": 62,
   "metadata": {},
   "outputs": [],
   "source": [
    "def plot_pcolor1(x0,x,y,fun):\n",
    "    plt.figure(figsize=(9,7))\n",
    "    \n",
    "    x1_max=max(x0[:,0])+1\n",
    "    x1_min=min(x0[:,0])-1\n",
    "    x2_max=max(x0[:,1])+1\n",
    "    x2_min=min(x0[:,1])-1\n",
    "    \n",
    "    plt.xlim(x1_min,x1_max)\n",
    "    plt.ylim(x2_min,x2_max)\n",
    "    \n",
    "    x1=np.arange(x1_min,x1_max,0.05)\n",
    "    x2=np.arange(x2_min,x2_max,0.05)\n",
    "    xx1,xx2=np.meshgrid(x1,x2)\n",
    "    \n",
    "    var=np.c_[xx1.ravel(),xx2.ravel()]\n",
    "    trans=[PF.transform(pt.reshape(1,-1)) for pt in var]\n",
    "    z=np.asanyarray([fun(pt) for pt in trans])\n",
    "    Z=z.reshape(xx1.shape)\n",
    "    \n",
    "    k=np.unique(y)\n",
    "    m=['ro','g^','ko','b^']\n",
    "    c=['r','g','k','b']\n",
    "    \n",
    "    if converged:\n",
    "        plt.pcolormesh(xx1,xx2,Z,cmap=plt.cm.Pastel1,vmin=0,vmax=len(k))\n",
    "        \n",
    "    for i in k:\n",
    "        plt.plot(x0[y==i,0],x0[y==i,1],m[i],label='Class %d'%(i))\n",
    "        \n",
    "    plt.title('Decision Boundary',weight='bold',fontsize=14)\n",
    "    plt.xlabel('Feature 1',fontsize=12)\n",
    "    plt.ylabel('Feature 2', fontsize=12)\n",
    "    plt.legend()\n",
    "    plt.show()\n",
    "               "
   ]
  }
 ],
 "metadata": {
  "kernelspec": {
   "display_name": "Python 3",
   "language": "python",
   "name": "python3"
  },
  "language_info": {
   "codemirror_mode": {
    "name": "ipython",
    "version": 3
   },
   "file_extension": ".py",
   "mimetype": "text/x-python",
   "name": "python",
   "nbconvert_exporter": "python",
   "pygments_lexer": "ipython3",
   "version": "3.7.6"
  }
 },
 "nbformat": 4,
 "nbformat_minor": 4
}
