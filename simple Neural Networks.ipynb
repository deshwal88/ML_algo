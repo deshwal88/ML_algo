{
 "cells": [
  {
   "cell_type": "code",
   "execution_count": 1,
   "metadata": {},
   "outputs": [],
   "source": [
    "import numpy as np"
   ]
  },
  {
   "cell_type": "markdown",
   "metadata": {},
   "source": [
    "n = number of inputs<br>\n",
    "o = number of outputs<br>\n",
    "m = number of nodes<br>\n",
    "h = number of hidden layers"
   ]
  },
  {
   "cell_type": "code",
   "execution_count": 2,
   "metadata": {},
   "outputs": [],
   "source": [
    "n=2\n",
    "o=1\n",
    "h=2\n",
    "m=[2,2]"
   ]
  },
  {
   "cell_type": "markdown",
   "metadata": {},
   "source": [
    "## Simulation of simple neurons"
   ]
  },
  {
   "cell_type": "markdown",
   "metadata": {},
   "source": [
    "This includes only the predicting or calculation of output from input. Training of this network is not included."
   ]
  },
  {
   "cell_type": "code",
   "execution_count": 71,
   "metadata": {},
   "outputs": [],
   "source": [
    "def neural_constraints(n=2,o=1,h=2,m=[2,2]):\n",
    "    network={}\n",
    "    nodes=[n]+m+[o]\n",
    "    for layer in range(0,h+1):\n",
    "        if layer==h:\n",
    "            layer_name='output_layer'\n",
    "            node_num=o\n",
    "            \n",
    "        else:\n",
    "            layer_name='layer_%d'%(layer+1)\n",
    "            node_num=nodes[layer+1]\n",
    "        \n",
    "        network[layer_name]={}\n",
    "        for node in range(0,node_num):\n",
    "                node_name='node_%d'%(node+1)\n",
    "                network[layer_name][node_name]={'w': np.around(np.random.uniform(size=nodes[layer]),decimals=2),\\\n",
    "                                                'b':np.around(np.random.uniform(size=1),decimals=2)}\n",
    "    return network         \n",
    "\n",
    "def sig(val):\n",
    "    return 1/(1+np.exp(-val))\n",
    "\n",
    "def neural_network(network,inp):\n",
    "    x=inp\n",
    "    for layer in network:\n",
    "        val=[sig(sum(v['w']*x+v['b'])) for k,v in network[layer].items()]\n",
    "        print('Node values at {}: '.format(layer),val)\n",
    "        x=val\n",
    "    return val"
   ]
  },
  {
   "cell_type": "code",
   "execution_count": 75,
   "metadata": {},
   "outputs": [
    {
     "data": {
      "text/plain": [
       "{'layer_1': {'node_1': {'w': array([0.58, 0.75, 0.97, 0.57]),\n",
       "   'b': array([0.73])},\n",
       "  'node_2': {'w': array([0.36, 0.23, 0.01, 0.49]), 'b': array([0.84])},\n",
       "  'node_3': {'w': array([0.66, 0.79, 0.08, 0.15]), 'b': array([0.45])}},\n",
       " 'layer_2': {'node_1': {'w': array([0.48, 0.08, 0.73]), 'b': array([0.25])},\n",
       "  'node_2': {'w': array([0.65, 0.06, 0.42]), 'b': array([0.91])},\n",
       "  'node_3': {'w': array([0.81, 0.11, 0.2 ]), 'b': array([0.4])}},\n",
       " 'layer_3': {'node_1': {'w': array([0.9 , 0.14, 0.84]), 'b': array([0.51])},\n",
       "  'node_2': {'w': array([0.23, 0.48, 0.28]), 'b': array([0.66])},\n",
       "  'node_3': {'w': array([0.97, 0.9 , 0.04]), 'b': array([0.85])}},\n",
       " 'layer_4': {'node_1': {'w': array([0.77, 0.57, 0.36]), 'b': array([0.9])},\n",
       "  'node_2': {'w': array([0.02, 0.63, 0.55]), 'b': array([0.25])},\n",
       "  'node_3': {'w': array([0.73, 0.91, 0.52]), 'b': array([0.45])}},\n",
       " 'output_layer': {'node_1': {'w': array([0.01, 0.51, 0.77]),\n",
       "   'b': array([0.71])}}}"
      ]
     },
     "execution_count": 75,
     "metadata": {},
     "output_type": "execute_result"
    }
   ],
   "source": [
    "net=neural_constraints(4,1,4,[3,3,3,3])\n",
    "net"
   ]
  },
  {
   "cell_type": "code",
   "execution_count": 74,
   "metadata": {},
   "outputs": [
    {
     "name": "stdout",
     "output_type": "stream",
     "text": [
      "Node values at layer_1:  [0.7563921134517602, 0.9229414304046154, 0.9684462334302945]\n",
      "Node values at layer_2:  [0.959628748964064, 0.8033749591485584, 0.9049530895084047]\n",
      "Node values at layer_3:  [0.8902214228445973, 0.9736757477578755, 0.9827652902936679]\n",
      "Node values at layer_4:  [0.8062587049279838, 0.9354070574434151, 0.9870347596183752]\n",
      "Node values at output_layer:  [0.9618269730644634]\n"
     ]
    },
    {
     "data": {
      "text/plain": [
       "[0.9618269730644634]"
      ]
     },
     "execution_count": 74,
     "metadata": {},
     "output_type": "execute_result"
    }
   ],
   "source": [
    "inp=np.around(np.random.uniform(size=4),decimals=1)\n",
    "neural_network(net,inp)"
   ]
  }
 ],
 "metadata": {
  "kernelspec": {
   "display_name": "Python 3",
   "language": "python",
   "name": "python3"
  },
  "language_info": {
   "codemirror_mode": {
    "name": "ipython",
    "version": 3
   },
   "file_extension": ".py",
   "mimetype": "text/x-python",
   "name": "python",
   "nbconvert_exporter": "python",
   "pygments_lexer": "ipython3",
   "version": "3.7.6"
  }
 },
 "nbformat": 4,
 "nbformat_minor": 4
}
