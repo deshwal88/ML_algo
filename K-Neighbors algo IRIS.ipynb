{
 "cells": [
  {
   "cell_type": "code",
   "execution_count": 44,
   "metadata": {},
   "outputs": [
    {
     "name": "stdout",
     "output_type": "stream",
     "text": [
      "100.0\n"
     ]
    }
   ],
   "source": [
    "import pandas as pd\n",
    "import numpy as np\n",
    "import matplotlib.pyplot as plt\n",
    "import seaborn as sns\n",
    "import csv\n",
    "import random\n",
    "import math\n",
    "import operator\n",
    "\n",
    "fname=open('/home/kanishk/Downloads/iris.csv')\n",
    "fhandle=csv.reader(fname)\n",
    "data=list(fhandle)\n",
    "data=data[:-1]\n",
    "\n",
    "def load_dataset(data,split,train=[],test=[]):\n",
    "    \n",
    "    l=len(data)\n",
    "    split=int(split*l)\n",
    "    n=random.sample(range(l),split)\n",
    "    j=0\n",
    "    for lines in data:\n",
    "        for i in range(4):\n",
    "            lines[i]=float(lines[i])\n",
    "        if j in n:\n",
    "            train.append(lines)\n",
    "            j+=1\n",
    "        else:\n",
    "            test.append(lines)\n",
    "            j+=1\n",
    "            \n",
    "def euclideandist(ins1,ins2,length):\n",
    "    dis=0\n",
    "    for i in range(length):\n",
    "        dis+=pow(ins1[i]-ins2[i],2)\n",
    "    return math.sqrt(dis)\n",
    "        \n",
    "def getneighbours(train,testins,k):\n",
    "    l=len(testins)-1\n",
    "    t=[]\n",
    "    for ins in train:\n",
    "        ed=euclideandist(ins,testins,l)\n",
    "        t.append([ins,ed])\n",
    "    t.sort(key=operator.itemgetter(1))\n",
    "\n",
    "    num=list()\n",
    "    for i in range(k):\n",
    "        num.append(t[i][0])\n",
    "    return num\n",
    "\n",
    "def get_response(neighbours):\n",
    "    response=str()\n",
    "    d=dict()\n",
    "    for i in range(len(neighbours)):\n",
    "        response=neighbours[i][-1]\n",
    "        d[response]=d.get(response,0)+1\n",
    "    d=sorted(d.items(),key=operator.itemgetter(1),reverse=True)\n",
    "    return d[0][0]\n",
    "\n",
    "def accuracy(test,predictions):\n",
    "    cout=0\n",
    "    for i in range(len(test)):\n",
    "        if test[i][-1]==predictions[i]:\n",
    "            cout+=1\n",
    "        else:\n",
    "            continue\n",
    "    return (cout/len(test))*100\n",
    "    \n",
    "        \n",
    "train=[]\n",
    "test=[]\n",
    "predictions=[]\n",
    "load_dataset(data,0.9,train,test)\n",
    "for item in test:\n",
    "    nb=getneighbours(train,item,3)\n",
    "    res=get_response(nb)\n",
    "    predictions.append(res)\n",
    "print(accuracy(test,predictions))"
   ]
  },
  {
   "cell_type": "code",
   "execution_count": null,
   "metadata": {},
   "outputs": [],
   "source": []
  },
  {
   "cell_type": "code",
   "execution_count": null,
   "metadata": {},
   "outputs": [],
   "source": []
  }
 ],
 "metadata": {
  "kernelspec": {
   "display_name": "Python 3",
   "language": "python",
   "name": "python3"
  },
  "language_info": {
   "codemirror_mode": {
    "name": "ipython",
    "version": 3
   },
   "file_extension": ".py",
   "mimetype": "text/x-python",
   "name": "python",
   "nbconvert_exporter": "python",
   "pygments_lexer": "ipython3",
   "version": "3.7.6"
  }
 },
 "nbformat": 4,
 "nbformat_minor": 4
}
